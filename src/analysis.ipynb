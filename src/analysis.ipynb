{
 "cells": [
  {
   "cell_type": "code",
   "execution_count": null,
   "id": "5d287658-fd5b-447b-afb0-8ca1f7a09e11",
   "metadata": {},
   "outputs": [],
   "source": [
    "%load_ext autoreload\n",
    "%autoreload 2"
   ]
  },
  {
   "cell_type": "code",
   "execution_count": null,
   "id": "91c53974-b060-45d3-b9ad-602fdf1c1f7b",
   "metadata": {},
   "outputs": [],
   "source": [
    "import os\n",
    "import glob\n",
    "import time\n",
    "import shutil\n",
    "import numpy as np\n",
    "import pandas as pd\n",
    "import matplotlib.pyplot as plt\n",
    "from datetime import datetime, timedelta\n",
    "from preprocess import *\n",
    "from utils import *\n",
    "from edinet import *"
   ]
  },
  {
   "cell_type": "code",
   "execution_count": null,
   "id": "2372dc91-4abd-4011-8b82-f72cf38afc57",
   "metadata": {},
   "outputs": [],
   "source": [
    "pd.set_option('display.max_rows', 1500)\n",
    "pd.set_option('display.max_columns', 100)\n",
    "pd.set_option('display.width', 1000)"
   ]
  },
  {
   "cell_type": "code",
   "execution_count": null,
   "id": "80eaa3a1-5ccb-4329-99b5-856452023af5",
   "metadata": {},
   "outputs": [],
   "source": [
    "tickers = [\n",
    "    1407,\n",
    "    2471,\n",
    "    2491,\n",
    "    3038,\n",
    "    3150,\n",
    "    3697,\n",
    "    3854,\n",
    "    3923,\n",
    "    4356,\n",
    "    4880,\n",
    "    4970,\n",
    "    6099,\n",
    "    6200,\n",
    "    6254,\n",
    "    6532,\n",
    "    6544,\n",
    "    6920,\n",
    "    6951,\n",
    "    6966,\n",
    "    7033,\n",
    "    7094,\n",
    "    8919\n",
    "]\n",
    "\n",
    "labels = [\n",
    "    '売上高_変化率(前年比)',\n",
    "    '経常利益_変化率(前年比)',\n",
    "    '純資産額_変化率(前年比)',\n",
    "    'ROE（自己資本利益率）_変化率(前年比)',\n",
    "    '期末残高_変化率(前年比)',\n",
    "    '自己資本比率',\n",
    "    'BPS（１株当たり純資産額）',\n",
    "    'EPS（１株当たり当期純利益）',\n",
    "    '営業CF',\n",
    "    '投資CF',\n",
    "    '財務CF',\n",
    "    '営業CFマージン',\n",
    "    '理論株価',\n",
    "    '株価'\n",
    "]"
   ]
  },
  {
   "cell_type": "code",
   "execution_count": null,
   "id": "fcd99f80-79fd-4f13-bbe9-8c619f9ed168",
   "metadata": {},
   "outputs": [],
   "source": [
    "from edinet_xbrl.edinet_xbrl_parser import EdinetXbrlParser\n",
    "from utils import read_ticker\n",
    "from xbrl_to_csv import *\n",
    "from taxonomy import *\n",
    "from check_xbrl import *\n",
    "from arelle import Cntlr\n"
   ]
  },
  {
   "cell_type": "code",
   "execution_count": null,
   "id": "0fdc32c8-e12d-41a7-bdfe-3556018fcca0",
   "metadata": {},
   "outputs": [],
   "source": [
    "sec_code = 1407\n",
    "parser = EdinetXbrlParser()\n",
    "xbrl_paths = glob.glob(f\"../data/raw/edinet/xbrl/四半期報告書/{sec_code}/*xbrl\")"
   ]
  },
  {
   "cell_type": "code",
   "execution_count": null,
   "id": "bab94b0c-fec1-442c-9df9-44e7c144e115",
   "metadata": {},
   "outputs": [],
   "source": [
    "df_doc_summary = pd.read_csv(\"../data/preprocess/edinet/doc_all_summary.csv\")\n",
    "df_doc_summary[\"secCode\"] = df_doc_summary[\"secCode\"]/10\n",
    "df_doc_summary[\"secCode\"] = df_doc_summary[\"secCode\"].astype(int)"
   ]
  },
  {
   "cell_type": "code",
   "execution_count": null,
   "id": "27a56c12-5498-49b8-b614-11ff7dc654cd",
   "metadata": {},
   "outputs": [],
   "source": [
    "doc_type_codes=['140','150']\n",
    "\n",
    "for doc_type_code in doc_type_codes:\n",
    "    doc_type_name = doc_type_code_dict[doc_type_code]\n",
    "    print(doc_type_name)\n",
    "    save_dir = f\"../data/raw/edinet/xbrl/{doc_type_name}\"\n",
    "    df_doc = df_doc_summary[df_doc_summary[\"docTypeCode\"]==int(doc_type_code)]\n",
    "    sec_codes = list(set(df_doc[\"secCode\"]))\n",
    "    sec_codes.sort()\n",
    "    for sec_code in sec_codes:\n",
    "        df_sec = df_doc[df_doc[\"secCode\"]==sec_code]\n",
    "        for i in df_sec.index:\n",
    "            date = df_sec.loc[i,'submitDateTime'][:10].split('-')\n",
    "            xbrl_path = f\"../data/raw/edinet/document/{date[0]}/{date[1]}/{date[2]}/{df_sec.loc[i,'docID']}/XBRL/PublicDoc/*.xbrl\"\n",
    "            glob_path = glob.glob(xbrl_path)\n",
    "            print(glob_path)\n",
    "            break\n",
    "    break"
   ]
  },
  {
   "cell_type": "code",
   "execution_count": null,
   "id": "462041bd-1915-4c1d-8032-1e7ce87e18cb",
   "metadata": {},
   "outputs": [],
   "source": [
    "glob_path"
   ]
  },
  {
   "cell_type": "code",
   "execution_count": null,
   "id": "144c4759-63ee-4ff7-9c27-bf0b673e48f7",
   "metadata": {},
   "outputs": [],
   "source": [
    "cnt = 0\n",
    "consolidated_type = \"Consolidated\"\n",
    "for xbrl_path in xbrl_paths:\n",
    "    edinet_xbrl_object = parser.parse_file(xbrl_path)\n",
    "    accounting_standards, current_period_end_date, type_of_current_period = get_accounting_data(edinet_xbrl_object, doc_type_code, sec_code)\n",
    "    if not accounting_standards or not current_period_end_date:\n",
    "        continue    \n",
    "    else:\n",
    "        year = int(current_period_end_date.split('-')[0])\n",
    "        month = current_period_end_date.split('-')[1]\n",
    "        _, taxonomy_dict = taxonomy_functions_dict[f\"{accounting_standards}_{doc_type_name}_{consolidated_type}\"]()\n",
    "        financial_summary_dict = {}\n",
    "        for label in taxonomy_dict.keys():\n",
    "            key = taxonomy_dict[label]['key']\n",
    "            context_refs = taxonomy_dict[label]['context_ref']\n",
    "            financial_summary_dict[label] = get_values_from_xbrl_by_some_keys(edinet_xbrl_object, key, context_refs)\n",
    "        df_finance = pd.DataFrame(financial_summary_dict).T\n",
    "        cols = [f'{year-i}_{month}{type_of_current_period}' for i in reversed(range(0,5))]\n",
    "        df_finance.columns = cols\n",
    "    if cnt==0:\n",
    "        df_finances = df_finance\n",
    "        cnt += 1\n",
    "    else:\n",
    "        delete_cols = [c for c in df_finances.columns if c in cols]\n",
    "        df_finances.drop(columns=delete_cols,inplace=True)\n",
    "        df_finances = df_finances.join(df_finance)\n",
    "if cnt >= 1:\n",
    "    save_path = os.path.join(save_dir,consolidated_type,f'{sec_code}_{company_name}.csv')\n",
    "    df_finances = df_finances.T"
   ]
  },
  {
   "cell_type": "code",
   "execution_count": null,
   "id": "46802423-25dc-4e4c-835c-a9e2c6cc4e28",
   "metadata": {},
   "outputs": [],
   "source": [
    "# save_path = f\"../data/preprocess/edinet/etc/xbrl_summary/四半期報告書/{sec_code}.csv\"\n",
    "# get_data_from_xbrl(xbrl_path, save_path)"
   ]
  },
  {
   "cell_type": "markdown",
   "id": "039f566c-d1cc-408d-adc8-48e8e4e64ee9",
   "metadata": {},
   "source": [
    "### Ananlysis stock price"
   ]
  },
  {
   "cell_type": "code",
   "execution_count": null,
   "id": "3edf29da-e919-4961-afb9-7ff0b3830466",
   "metadata": {},
   "outputs": [],
   "source": [
    "df_price = pd.read_csv(\"../data/preprocess/stock_price/stock_price_summary.csv\", index_col=0)\n",
    "code_to_company_name = read_code_to_company_name()"
   ]
  },
  {
   "cell_type": "code",
   "execution_count": null,
   "id": "55b07876-3b17-49ff-9324-608855e33116",
   "metadata": {
    "tags": []
   },
   "outputs": [],
   "source": [
    "# df_tmp = df_price[df_price['rate_of_increase_2020_min_2021_max'] > 400]\n",
    "# print(len(df_tmp))\n",
    "# df_tmp = df_price[df_price['rate_of_increase_2019_min_2021_max'] > 800]\n",
    "# print(len(df_tmp))\n",
    "# df_tmp = df_price[df_price['rate_of_increase_2018_min_2021_max'] > 1600]\n",
    "print(len(df_tmp))\n",
    "df_tmp = df_price[df_price['rate_of_increase_2017_min_2021_max'] > 1000]\n",
    "# print(len(df_tmp))\n",
    "\n",
    "tickers = df_tmp.index\n",
    "\n",
    "# save_dir = \"../result/chart/\"\n",
    "# for ticker in df_tmp.index:\n",
    "#     companu_name = code_to_company_name[ticker]\n",
    "#     print(ticker, companu_name, df_tmp.loc[ticker,'rate_of_increase_2019_min_2021_max'])\n",
    "#     plot_stock_price(ticker, companu_name, save_dir=save_dir)"
   ]
  },
  {
   "cell_type": "code",
   "execution_count": null,
   "id": "3583e5a1-f269-4ecb-8d00-732912025bee",
   "metadata": {},
   "outputs": [],
   "source": [
    "df_tmp['rate_of_increase_2017_min_2021_max']"
   ]
  },
  {
   "cell_type": "code",
   "execution_count": null,
   "id": "ff05db35-0c6b-49bd-8c41-d8d7da6ec3a2",
   "metadata": {},
   "outputs": [],
   "source": [
    "df_company = pd.read_csv(\"../data/preprocess/etc/company_info.csv\", index_col=1)"
   ]
  },
  {
   "cell_type": "code",
   "execution_count": null,
   "id": "ed9444fd-cbd4-4659-b4f4-ec3eea76988a",
   "metadata": {},
   "outputs": [],
   "source": [
    "df_tmp = df_company.loc[tickers]"
   ]
  },
  {
   "cell_type": "code",
   "execution_count": null,
   "id": "63406301-fe58-47fa-81f6-5ebd2fe11511",
   "metadata": {},
   "outputs": [],
   "source": [
    "df_tmp[df_tmp['17業種区分']=='情報通信・サービスその他 ']"
   ]
  },
  {
   "cell_type": "markdown",
   "id": "4c8dee20-ccea-4173-a0c7-063e7d3e317d",
   "metadata": {},
   "source": [
    "### Analysis Financial Summary"
   ]
  },
  {
   "cell_type": "code",
   "execution_count": null,
   "id": "aa5b416b-07c0-43e0-bd7c-cae4a18385ae",
   "metadata": {
    "tags": []
   },
   "outputs": [],
   "source": [
    "save_dir = \"../result/financial_summary/\"\n",
    "for ticker in tickers:\n",
    "    company_name = code_to_company_name[ticker]\n",
    "    df = read_financial_summary_by_ticker(ticker)\n",
    "    # plot_stock_price(ticker, company_name)\n",
    "    title = f\"{ticker}_{company_name}\"\n",
    "    plot_financial_summary(df, title, save_dir=save_dir)"
   ]
  },
  {
   "cell_type": "markdown",
   "id": "950b8b9e-79a1-4df3-ba91-b9a9c35f9c9f",
   "metadata": {},
   "source": [
    "### Evaluate Company"
   ]
  },
  {
   "cell_type": "code",
   "execution_count": null,
   "id": "269686b0-8a37-4f6c-bf75-736a2a07c803",
   "metadata": {
    "tags": []
   },
   "outputs": [],
   "source": [
    "tickers = []\n",
    "paths = glob.glob(\"../data/preprocess/edinet/有価証券報告書/Summary/*.csv\")\n",
    "for i,path in enumerate(paths):\n",
    "    if i !=0 and i%1000 == 0:\n",
    "        print(i)\n",
    "    df = pd.read_csv(path, index_col=0)\n",
    "    df_tmp = df[\"売上高_変化率(前年比)\"]\n",
    "    df_tmp.dropna(inplace=True)\n",
    "    if len(df_tmp) >=3:\n",
    "        if len(df_tmp[df_tmp > 100]) == len(df_tmp):\n",
    "            ticker = path.split('/')[-1].split('_')[0]\n",
    "            tickers.append(int(ticker))"
   ]
  },
  {
   "cell_type": "code",
   "execution_count": null,
   "id": "eb5b4a9f-1caa-4f13-a80b-f2ba91ff02ee",
   "metadata": {
    "tags": []
   },
   "outputs": [],
   "source": [
    "print(f\"total tickers: {len(tickers)}\")\n",
    "for ticker in tickers:\n",
    "    company_name = code_to_company_name[int(ticker)]\n",
    "    plot_stock_price(int(ticker), company_name)"
   ]
  },
  {
   "cell_type": "code",
   "execution_count": null,
   "id": "40f63ff4-5948-478c-acea-a68d6369ee10",
   "metadata": {},
   "outputs": [],
   "source": []
  }
 ],
 "metadata": {
  "kernelspec": {
   "display_name": "Python 3 (ipykernel)",
   "language": "python",
   "name": "python3"
  },
  "language_info": {
   "codemirror_mode": {
    "name": "ipython",
    "version": 3
   },
   "file_extension": ".py",
   "mimetype": "text/x-python",
   "name": "python",
   "nbconvert_exporter": "python",
   "pygments_lexer": "ipython3",
   "version": "3.8.12"
  }
 },
 "nbformat": 4,
 "nbformat_minor": 5
}
